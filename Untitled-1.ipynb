{
 "cells": [
  {
   "cell_type": "code",
   "execution_count": 1,
   "source": [
    "%matplotlib widget\r\n",
    "import pandas as pd\r\n",
    "import matplotlib.pyplot as plt\r\n",
    "import numpy as np\r\n",
    "import statistics"
   ],
   "outputs": [],
   "metadata": {}
  },
  {
   "cell_type": "code",
   "execution_count": 2,
   "source": [
    "\r\n",
    "df = pd.read_csv ('C:/Users/bicho/OneDrive/Documentos/Balseiro/maestria/datos/datos.csv', engine='python',sep=';')\r\n",
    "print(df.to_numpy)"
   ],
   "outputs": [
    {
     "output_type": "stream",
     "name": "stdout",
     "text": [
      "<bound method DataFrame.to_numpy of                date    �timeGMT   accX  �accY  �accZ   tempIMU   girX   girY  \\\n",
      "0        2020-11-29  110703.000  -1152    912  -6534     -6400   -401   -397   \n",
      "1        2020-11-29  110703.185  -1698   1312  -9672     -6374     88     29   \n",
      "2        2020-11-29  110703.371  -1706   1320  -9668     -6356   -289    230   \n",
      "3        2020-11-29  110703.556  -1706   1330  -9678     -6337   -938    889   \n",
      "4        2020-11-29  110703.742  -1722   1344  -9654     -6326   -787    921   \n",
      "...             ...         ...    ...    ...    ...       ...    ...    ...   \n",
      "1165243  2020-12-03  221211.134   1622    646  -9722     -3496   -982   -298   \n",
      "1165244  2020-12-03  221211.307   3038   3966  -9424     -3495  -2724   2086   \n",
      "1165245  2020-12-03  221211.480   1080   2484  -9644     -3497  -1446     16   \n",
      "1165246  2020-12-03  221211.653   2158   2684  -9464     -3499  -2612   1468   \n",
      "1165247  2020-12-03  221211.826   1294   4728  -9256     -3500  -3785   1395   \n",
      "\n",
      "          girZ   tempIMU_C  Tsample        lat        lon  \n",
      "0         -142       17.71    0.185 -40.583380 -64.998071  \n",
      "1          605       17.78    0.185        NaN        NaN  \n",
      "2          -87       17.84    0.185        NaN        NaN  \n",
      "3         -118       17.89    0.185        NaN        NaN  \n",
      "4         -118       17.92    0.185        NaN        NaN  \n",
      "...        ...         ...      ...        ...        ...  \n",
      "1165243  -1934       26.25    0.173        NaN        NaN  \n",
      "1165244   -808       26.25    0.173        NaN        NaN  \n",
      "1165245  -1596       26.24    0.173        NaN        NaN  \n",
      "1165246   -876       26.24    0.173        NaN        NaN  \n",
      "1165247  -1021       26.24    0.173 -40.578795 -64.996014  \n",
      "\n",
      "[1165248 rows x 13 columns]>\n"
     ]
    }
   ],
   "metadata": {}
  },
  {
   "cell_type": "code",
   "execution_count": null,
   "source": [
    "acc=(df.to_numpy()[:,2]**2+df.to_numpy()[:,3]**2+df.to_numpy()[:,4]**2)**(1/2)\r\n",
    "plt.plot(acc)\r\n",
    "plt.show()"
   ],
   "outputs": [],
   "metadata": {}
  },
  {
   "cell_type": "code",
   "execution_count": null,
   "source": [
    "segmentos = np.loadtxt(\"C:/Users/bicho/Desktop/segmentos.txt\")\r\n",
    "derivada = np.loadtxt(\"C:/Users/bicho/Desktop/derivada.txt\")\r\n",
    "for x in segmentos:\r\n",
    "    plt.axvline(x=x[0],ls='--',c='r')\r\n",
    "    plt.axvline(x=x[1],ls='--',c='k')\r\n",
    "plt.plot(derivada)\r\n",
    "plt.show()"
   ],
   "outputs": [],
   "metadata": {}
  },
  {
   "cell_type": "code",
   "execution_count": null,
   "source": [
    "segmentos = np.loadtxt(\"C:/Users/bicho/Desktop/segmentos.txt\")\r\n",
    "derivada = np.loadtxt(\"C:/Users/bicho/Desktop/derivada.txt\")\r\n",
    "for x in segmentos:\r\n",
    "    plt.axvline(x=x[0],ls='--',c='r')\r\n",
    "    plt.axvline(x=x[1],ls='--',c='k')\r\n",
    "plt.plot(df.to_numpy()[:,5])\r\n",
    "plt.show()"
   ],
   "outputs": [],
   "metadata": {}
  },
  {
   "cell_type": "code",
   "execution_count": 9,
   "source": [
    "segmentos = np.loadtxt(\"C:/Users/bicho/Desktop/segmentos.txt\")  \r\n",
    "derivada = np.loadtxt(\"C:/Users/bicho/Desktop/derivada.txt\")\r\n",
    "group=df.groupby('date')\r\n",
    "days = group.ngroups\r\n",
    "indexes= np.zeros(days+1)\r\n",
    "for d in np.arange(days):\r\n",
    "    indexes[d+1]=group.size()[d]+indexes[d]\r\n",
    "indexes = indexes.astype(int)\r\n",
    "fig = plt.figure()\r\n",
    "gs = fig.add_gridspec(days, hspace=0)\r\n",
    "axs = gs.subplots(sharex=True, sharey=True)\r\n",
    "fig.suptitle('Actograma')\r\n",
    "time = df.to_numpy()[:,1]\r\n",
    "for d in np.arange(days):\r\n",
    "    axs[d].plot(time[indexes[d]:indexes[d+1]], derivada[indexes[d]:indexes[d+1]])\r\n",
    "    for x in segmentos:\r\n",
    "        x = x.astype(int)\r\n",
    "        if indexes[d]<x[0]<indexes[d+1] and indexes[d]<x[1]<indexes[d+1]:\r\n",
    "            axs[d].axvspan(time[x[0]], time[x[1]], alpha=0.5, color='red')\r\n",
    "\r\n",
    "# Hide x labels and tick labels for all but bottom plot.\r\n",
    "for ax in axs:\r\n",
    "    ax.label_outer()\r\n"
   ],
   "outputs": [
    {
     "output_type": "display_data",
     "data": {
      "application/vnd.jupyter.widget-view+json": {
       "version_major": 2,
       "version_minor": 0,
       "model_id": "e4687e42c7434c439344076e6d74d5de"
      },
      "text/plain": [
       "Canvas(toolbar=Toolbar(toolitems=[('Home', 'Reset original view', 'home', 'home'), ('Back', 'Back to previous …"
      ]
     },
     "metadata": {}
    }
   ],
   "metadata": {}
  }
 ],
 "metadata": {
  "orig_nbformat": 4,
  "language_info": {
   "name": "python",
   "version": "3.9.7",
   "mimetype": "text/x-python",
   "codemirror_mode": {
    "name": "ipython",
    "version": 3
   },
   "pygments_lexer": "ipython3",
   "nbconvert_exporter": "python",
   "file_extension": ".py"
  },
  "kernelspec": {
   "name": "python3",
   "display_name": "Python 3.9.7 64-bit"
  },
  "interpreter": {
   "hash": "d8e5e32cd29d63bb8d5acf49f6e335412a24dd630f881ebf5158f262f92f6b21"
  }
 },
 "nbformat": 4,
 "nbformat_minor": 2
}